{
 "cells": [
  {
   "cell_type": "markdown",
   "id": "f9447391-4cff-4928-9f5d-32f5ee8e794b",
   "metadata": {},
   "source": [
    "# Muhammad Huzaifa\n",
    "# AI-333873\n",
    "\n",
    "## Hackathon"
   ]
  },
  {
   "cell_type": "code",
   "execution_count": 1,
   "id": "d391f98f-3a24-4f8b-9955-849e81506fd7",
   "metadata": {},
   "outputs": [],
   "source": [
    "class BalanceException(Exception):\n",
    "    # A class only created for exceptions as defined by name\n",
    "    pass\n",
    "\n",
    "class Bank:\n",
    "    def __init__(self,holdername,holderbalance):\n",
    "        self.name=holdername\n",
    "        self.balance=holderbalance\n",
    "        self.transactions=[]\n",
    "        print(f\"\\nAccount Created Sucessfully For {self.name}.\")\n",
    "    def HolderName(self):\n",
    "        print(f\"\\nAcccount Registered On The Name of {self.name}.\")\n",
    "    def Balance(self):\n",
    "        print(f\"\\nCurrent Balance of {self.name} is Rs.{self.balance}\")\n",
    "    def Deposit(self,amount):\n",
    "        # To Deposit amount\n",
    "        self.balance=self.balance+amount\n",
    "        print(\"Deposit Successfully...\")\n",
    "        self.Balance()\n",
    "        self.add_transactions(f\"Deposit : {amount}\")\n",
    "    def CheckTransactions(self,amount):\n",
    "        # This is created to check amount for withdrawl and bank transfer \n",
    "        if self.balance>=amount:\n",
    "            return\n",
    "        else:\n",
    "            raise BalanceException(f\"\\nSorry The Account of {self.name} has balance of Rs.{self.balance}..\")\n",
    "    def Withdraw(self,amount):\n",
    "        # To Withdraw money from account\n",
    "        try:\n",
    "            self.CheckTransactions(amount)\n",
    "            self.balance=self.balance-amount\n",
    "            print(\"\\nWithdraw Successfully...\")\n",
    "            self.Balance()\n",
    "            self.add_transactions(f\"Withdraw : {amount}\")\n",
    "        except BalanceException as Error:\n",
    "            print(f\"\\nWithdraw Interupted... : {Error}\")\n",
    "    def add_transactions(self,description):\n",
    "        self.transactions.append(description)\n",
    "\n",
    "    def print_statement(self):\n",
    "        for a in self.transactions:\n",
    "            print(a)\n",
    "    def BankTransfer(self,amount,account):\n",
    "        # To transfer amount from one account to another\n",
    "        try:\n",
    "            print(\"\\nProcessing...\")\n",
    "            self.CheckTransactions(amount)\n",
    "            self.Withdraw(amount)\n",
    "            account.Deposit(amount)\n",
    "            print(\"\\nCompleted...\")\n",
    "        except BalanceException as error:\n",
    "            print(f\"\\nTransfer Interupted... : {error}\")\n",
    "        "
   ]
  },
  {
   "cell_type": "code",
   "execution_count": 2,
   "id": "5e1158ee-b95a-4251-b845-019b98b82109",
   "metadata": {},
   "outputs": [],
   "source": [
    "accounts={}"
   ]
  },
  {
   "cell_type": "code",
   "execution_count": 5,
   "id": "2a53e8bd-bba3-4b99-91ea-fcf206e6510e",
   "metadata": {},
   "outputs": [
    {
     "name": "stdout",
     "output_type": "stream",
     "text": [
      "\n",
      "Welcome to Hackathon Bank.\n",
      "Select Your Desired Option\n",
      "1)Open Account\n",
      "2)Check Balance\n",
      "3)Deposit Amount\n",
      "4)Withdraw Amount\n",
      "5)Bank Transfer\n",
      "6)Exit\n",
      "7)Admin Access\n",
      "\n",
      "Enter Your Choice..\n"
     ]
    },
    {
     "name": "stdin",
     "output_type": "stream",
     "text": [
      " 1\n"
     ]
    },
    {
     "name": "stdout",
     "output_type": "stream",
     "text": [
      "\n",
      "Welcome\n",
      "\n",
      "Enter Your Desired Four Digit **** Unique Number..\n"
     ]
    },
    {
     "name": "stdin",
     "output_type": "stream",
     "text": [
      " 1234\n"
     ]
    },
    {
     "name": "stdout",
     "output_type": "stream",
     "text": [
      "\n",
      "Enter Your Name..\n"
     ]
    },
    {
     "name": "stdin",
     "output_type": "stream",
     "text": [
      " huzaifa\n"
     ]
    },
    {
     "name": "stdout",
     "output_type": "stream",
     "text": [
      "\n",
      "Deposit Starting Amount..\n"
     ]
    },
    {
     "name": "stdin",
     "output_type": "stream",
     "text": [
      " 2000\n"
     ]
    },
    {
     "name": "stdout",
     "output_type": "stream",
     "text": [
      "\n",
      "Account Created Sucessfully For Huzaifa.\n",
      "\n",
      "Welcome to Hackathon Bank.\n",
      "Select Your Desired Option\n",
      "1)Open Account\n",
      "2)Check Balance\n",
      "3)Deposit Amount\n",
      "4)Withdraw Amount\n",
      "5)Bank Transfer\n",
      "6)Exit\n",
      "7)Admin Access\n",
      "\n",
      "Enter Your Choice..\n"
     ]
    },
    {
     "name": "stdin",
     "output_type": "stream",
     "text": [
      " 1\n"
     ]
    },
    {
     "name": "stdout",
     "output_type": "stream",
     "text": [
      "\n",
      "Welcome\n",
      "\n",
      "Enter Your Desired Four Digit **** Unique Number..\n"
     ]
    },
    {
     "name": "stdin",
     "output_type": "stream",
     "text": [
      " 2345\n"
     ]
    },
    {
     "name": "stdout",
     "output_type": "stream",
     "text": [
      "\n",
      "Enter Your Name..\n"
     ]
    },
    {
     "name": "stdin",
     "output_type": "stream",
     "text": [
      " zorain\n"
     ]
    },
    {
     "name": "stdout",
     "output_type": "stream",
     "text": [
      "\n",
      "Deposit Starting Amount..\n"
     ]
    },
    {
     "name": "stdin",
     "output_type": "stream",
     "text": [
      " 1500\n"
     ]
    },
    {
     "name": "stdout",
     "output_type": "stream",
     "text": [
      "\n",
      "Account Created Sucessfully For Zorain.\n",
      "\n",
      "Welcome to Hackathon Bank.\n",
      "Select Your Desired Option\n",
      "1)Open Account\n",
      "2)Check Balance\n",
      "3)Deposit Amount\n",
      "4)Withdraw Amount\n",
      "5)Bank Transfer\n",
      "6)Exit\n",
      "7)Admin Access\n",
      "\n",
      "Enter Your Choice..\n"
     ]
    },
    {
     "name": "stdin",
     "output_type": "stream",
     "text": [
      " 3\n"
     ]
    },
    {
     "name": "stdout",
     "output_type": "stream",
     "text": [
      "\n",
      "Welcome\n",
      "\n",
      "Enter Your Four Digit **** Account Number..\n"
     ]
    },
    {
     "name": "stdin",
     "output_type": "stream",
     "text": [
      " 1234\n"
     ]
    },
    {
     "name": "stdout",
     "output_type": "stream",
     "text": [
      "\n",
      "Enter Amount To Deposit..\n"
     ]
    },
    {
     "name": "stdin",
     "output_type": "stream",
     "text": [
      " 1500\n"
     ]
    },
    {
     "name": "stdout",
     "output_type": "stream",
     "text": [
      "Deposit Successfully...\n",
      "\n",
      "Current Balance of Huzaifa is Rs.3500\n",
      "\n",
      "Welcome to Hackathon Bank.\n",
      "Select Your Desired Option\n",
      "1)Open Account\n",
      "2)Check Balance\n",
      "3)Deposit Amount\n",
      "4)Withdraw Amount\n",
      "5)Bank Transfer\n",
      "6)Exit\n",
      "7)Admin Access\n",
      "\n",
      "Enter Your Choice..\n"
     ]
    },
    {
     "name": "stdin",
     "output_type": "stream",
     "text": [
      " 4\n"
     ]
    },
    {
     "name": "stdout",
     "output_type": "stream",
     "text": [
      "\n",
      "Welcome\n",
      "\n",
      "Enter Your Four Digit **** Account Number..\n"
     ]
    },
    {
     "name": "stdin",
     "output_type": "stream",
     "text": [
      " 1234\n"
     ]
    },
    {
     "name": "stdout",
     "output_type": "stream",
     "text": [
      "\n",
      "Enter Amount To Deposit..\n"
     ]
    },
    {
     "name": "stdin",
     "output_type": "stream",
     "text": [
      " 500\n"
     ]
    },
    {
     "name": "stdout",
     "output_type": "stream",
     "text": [
      "\n",
      "Withdraw Successfully...\n",
      "\n",
      "Current Balance of Huzaifa is Rs.3000\n",
      "\n",
      "Welcome to Hackathon Bank.\n",
      "Select Your Desired Option\n",
      "1)Open Account\n",
      "2)Check Balance\n",
      "3)Deposit Amount\n",
      "4)Withdraw Amount\n",
      "5)Bank Transfer\n",
      "6)Exit\n",
      "7)Admin Access\n",
      "\n",
      "Enter Your Choice..\n"
     ]
    },
    {
     "name": "stdin",
     "output_type": "stream",
     "text": [
      " 7\n"
     ]
    },
    {
     "name": "stdout",
     "output_type": "stream",
     "text": [
      "Default Password For Admin Is 0000..\n"
     ]
    },
    {
     "name": "stdin",
     "output_type": "stream",
     "text": [
      " 0000\n"
     ]
    },
    {
     "name": "stdout",
     "output_type": "stream",
     "text": [
      "\n",
      "Acccount Registered On The Name of Huzaifa.\n",
      "\n",
      "Current Balance of Huzaifa is Rs.3000\n",
      "Deposit : 1500\n",
      "Withdraw : 500\n",
      "\n",
      "Acccount Registered On The Name of Zorain.\n",
      "\n",
      "Current Balance of Zorain is Rs.1500\n",
      "\n",
      "Welcome to Hackathon Bank.\n",
      "Select Your Desired Option\n",
      "1)Open Account\n",
      "2)Check Balance\n",
      "3)Deposit Amount\n",
      "4)Withdraw Amount\n",
      "5)Bank Transfer\n",
      "6)Exit\n",
      "7)Admin Access\n",
      "\n",
      "Enter Your Choice..\n"
     ]
    },
    {
     "name": "stdin",
     "output_type": "stream",
     "text": [
      " 6\n"
     ]
    },
    {
     "name": "stdout",
     "output_type": "stream",
     "text": [
      "\n",
      "Thanks For Using Our Services..\n"
     ]
    }
   ],
   "source": [
    "run=True\n",
    "\n",
    "while run:\n",
    "    print(\"\\nWelcome to Hackathon Bank.\\nSelect Your Desired Option\\n1)Open Account\\n2)Check Balance\\n3)Deposit Amount\\n4)Withdraw Amount\\n5)Bank Transfer\\n6)Exit\\n7)Admin Access\")\n",
    "    try:\n",
    "        # Ask to see which number would a person choose\n",
    "        print(\"\\nEnter Your Choice..\")\n",
    "        option=int(input())\n",
    "    except:\n",
    "        print(\"\\nEnter An Interger..\")\n",
    "\n",
    "    if option==1:\n",
    "        print(\"\\nWelcome\")\n",
    "        try:\n",
    "            print(\"\\nEnter Your Desired Four Digit **** Unique Number..\")\n",
    "            accountnumber=int(input())\n",
    "            print(\"\\nEnter Your Name..\")\n",
    "            name=input().capitalize()\n",
    "            print(\"\\nDeposit Starting Amount..\")\n",
    "            firstam=int(input())\n",
    "            accounts[accountnumber]=Bank(name,firstam)\n",
    "        except:\n",
    "            print(\"\\nPlease Follow Instructions..\")\n",
    "    elif option==2:\n",
    "        print(\"\\nWelcome\")\n",
    "        try:\n",
    "            print(\"\\nEnter Your Four Digit **** Account Number..\")\n",
    "            accnum=int(input())\n",
    "            accounts[accnum].Balance()\n",
    "        except:\n",
    "            print(\"\\nPlease Follow Instructions..\")\n",
    "    elif option==3:\n",
    "        print(\"\\nWelcome\")\n",
    "        try:\n",
    "            print(\"\\nEnter Your Four Digit **** Account Number..\")\n",
    "            accnum=int(input())\n",
    "            print(\"\\nEnter Amount To Deposit..\")\n",
    "            amount=int(input())\n",
    "            accounts[accnum].Deposit(amount)\n",
    "        except:\n",
    "            print(\"\\nPlease Follow Instructions..\")\n",
    "    elif option==4:\n",
    "        print(\"\\nWelcome\")\n",
    "        try:\n",
    "            print(\"\\nEnter Your Four Digit **** Account Number..\")\n",
    "            accnum=int(input())\n",
    "            print(\"\\nEnter Amount To Deposit..\")\n",
    "            amount=int(input())\n",
    "            accounts[accnum].Withdraw(amount)\n",
    "        except:\n",
    "            print(\"\\nPlease Follow Instructions..\")\n",
    "    elif option==5:\n",
    "        try:\n",
    "            print(\"\\nEnter Your Four Digit **** Account Number..\")\n",
    "            accnum=int(input())\n",
    "            print(\"\\nEnter Benificary Four Digit **** Account Number..\")\n",
    "            baccnum=int(input())\n",
    "            print(\"\\nEnter Amount To Transfer..\")\n",
    "            amount=int(input())\n",
    "            accounts[accnum].BankTransfer(amount,accounts[baccnum])\n",
    "        except:\n",
    "            print(\"\\nPlease Follow Instructions..\")\n",
    "\n",
    "    elif option==6:\n",
    "        print(\"\\nThanks For Using Our Services..\")\n",
    "        run=False\n",
    "    elif option==7:\n",
    "        print(\"Default Password For Admin Is 0000..\")\n",
    "        try:\n",
    "            inp=int(input())\n",
    "            if inp==0000:\n",
    "                for a in accounts.values():\n",
    "                    a.HolderName()\n",
    "                    a.Balance()\n",
    "                    a.print_statement()\n",
    "            else:\n",
    "                print(\"Enter Correct Password..\")\n",
    "        except:\n",
    "            print(\"Follow Instructions...\")"
   ]
  }
 ],
 "metadata": {
  "kernelspec": {
   "display_name": "Python 3 (ipykernel)",
   "language": "python",
   "name": "python3"
  },
  "language_info": {
   "codemirror_mode": {
    "name": "ipython",
    "version": 3
   },
   "file_extension": ".py",
   "mimetype": "text/x-python",
   "name": "python",
   "nbconvert_exporter": "python",
   "pygments_lexer": "ipython3",
   "version": "3.12.8"
  }
 },
 "nbformat": 4,
 "nbformat_minor": 5
}
